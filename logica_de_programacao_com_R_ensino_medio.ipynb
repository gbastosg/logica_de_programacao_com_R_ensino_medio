{
  "nbformat": 4,
  "nbformat_minor": 0,
  "metadata": {
    "colab": {
      "name": "logica_de_programacao_com_R-ensino_medio.ipynb",
      "provenance": [],
      "collapsed_sections": [
        "fDohQuMqWnC-",
        "3hwfFLO5iUyR",
        "5cAxOXBv8KZ6",
        "faswqpLGsP2v",
        "A9r-MFKwsSsh"
      ]
    },
    "kernelspec": {
      "name": "ir",
      "display_name": "R"
    },
    "language_info": {
      "name": "R"
    }
  },
  "cells": [
    {
      "cell_type": "markdown",
      "metadata": {
        "id": "MJTbjaiPJYij"
      },
      "source": [
        "#Introdução à lógica de programação com R\n",
        "\n",
        "## Prof. Guilherme\n"
      ]
    },
    {
      "cell_type": "markdown",
      "metadata": {
        "id": "r9wl5DnsAx3M"
      },
      "source": [
        "## Google Colab\n",
        "\n",
        "Google Colab é um ambiente de programação gratuito (*um Jupiter Notebook*) que roda completamente na NUVEM!\n",
        "\n",
        "Tipo Google Docs, mas para *codear*\n",
        "\n",
        "$\\color{blue}{\\text{Pontos positivos}}$ em usar o Google Colab\n",
        "\n",
        "+ Não há necessidade de instalar a linguagem ou um GUI no PC.\n",
        "+ Garantir um ambiente colaborativo de aprendizagem e desenvolvimento\n",
        "+ Podemos começar para já!\n",
        "\n",
        "\n",
        "$\\color{red}{\\text{Ponto negativo}}$\n",
        "\n",
        "+ Você teria que instalar a linguagem (R) e o GUI (RStudio) no seu próprio computador quando quiser usar sozinho (em um ambiente não colaborativo).\n",
        "\n",
        "<br>\n",
        "\n",
        "**Para os aventurosos que quiserem instalar o R no próprio computador (você não precisará disso para essa aula):**\n",
        "\n",
        "\n",
        "+ Download do R aqui: https://cran.r-project.org/\n",
        "+ Download do RStudio aqui: https://www.rstudio.com/products/rstudio/download/"
      ]
    },
    {
      "cell_type": "markdown",
      "metadata": {
        "id": "werAkVkmE_MS"
      },
      "source": [
        "# R como uma Calculadora\n",
        "\n",
        "A verdade é que as linguagens de programação não passam de *calculadoras chiques*\n",
        "\n",
        "![](https://cdn.iconscout.com/icon/free/png-256/math-1963506-1657007.png)\n",
        "\n",
        "o R pode:\n",
        "\n",
        "* `+` adicionar\n",
        "* `-` subtrair\n",
        "* `*` multiplicar\n",
        "* `/` dividir\n",
        "* `^` exponenciar\n"
      ]
    },
    {
      "cell_type": "markdown",
      "metadata": {
        "id": "coWRpJ8BFXGo"
      },
      "source": [
        "##Adicionei algumas células para você abaixo, tente fazer algumas contas matemáticas:\n",
        "\n",
        "Para adicionar células, basta clicar ali em cima em \"+ Código\", é importante prestar atenção para onde está o seu ponteiro, digo qual célula está selecionada. Para selecionar uma célula basta clicar nela."
      ]
    },
    {
      "cell_type": "code",
      "source": [
        "2+2"
      ],
      "metadata": {
        "id": "piNd4T4vfDDM",
        "colab": {
          "base_uri": "https://localhost:8080/",
          "height": 34
        },
        "outputId": "5f0f9e7a-c357-4cf4-9723-6d281a2fe99e"
      },
      "execution_count": null,
      "outputs": [
        {
          "output_type": "display_data",
          "data": {
            "text/plain": [
              "[1] 4"
            ],
            "text/latex": "4",
            "text/markdown": "4",
            "text/html": [
              "4"
            ]
          },
          "metadata": {}
        }
      ]
    },
    {
      "cell_type": "code",
      "source": [
        ""
      ],
      "metadata": {
        "id": "tRQc0SKjfC_w"
      },
      "execution_count": null,
      "outputs": []
    },
    {
      "cell_type": "code",
      "source": [
        ""
      ],
      "metadata": {
        "id": "GCer2J2zfC5O"
      },
      "execution_count": null,
      "outputs": []
    },
    {
      "cell_type": "code",
      "source": [
        ""
      ],
      "metadata": {
        "id": "np59055FfCwd"
      },
      "execution_count": null,
      "outputs": []
    },
    {
      "cell_type": "code",
      "source": [
        ""
      ],
      "metadata": {
        "id": "LK34NUNRfCkV"
      },
      "execution_count": null,
      "outputs": []
    },
    {
      "cell_type": "markdown",
      "metadata": {
        "id": "alUN4PWZFqLi"
      },
      "source": [
        "## Mas essas calculadoras são poderosíssimas! Podemos até misturar operadores:"
      ]
    },
    {
      "cell_type": "code",
      "metadata": {
        "id": "aUKF1AlhDsdX"
      },
      "source": [
        "(15 + 5) / (2 * 5)"
      ],
      "execution_count": null,
      "outputs": []
    },
    {
      "cell_type": "markdown",
      "metadata": {
        "id": "xX5WDXXOF2Gn"
      },
      "source": [
        "> Nota importante: quando colocamos uma # na frente do nosso código estamos comentando algo! Ou seja, escrevendo um **comentário** a respeito do código que fizemos. Acredite, é importante!\n",
        "\n",
        "Comentários são formas simples de adicionarmos textos ao nosso código, por exemplo para explicar o que estamos fazendo ali."
      ]
    },
    {
      "cell_type": "code",
      "metadata": {
        "id": "V2FJRiEPGO5Z"
      },
      "source": [
        "#Eu serei ignorado\n",
        "2*2*2\n",
        "## Eu também!!!\n",
        "#O R nem liga pra mim"
      ],
      "execution_count": null,
      "outputs": []
    },
    {
      "cell_type": "code",
      "source": [
        "#Escreva aqui\n",
        "Causarei um erro"
      ],
      "metadata": {
        "id": "tMwAgwQWfPgC"
      },
      "execution_count": null,
      "outputs": []
    },
    {
      "cell_type": "markdown",
      "metadata": {
        "id": "JHnlL8KkFWiK"
      },
      "source": [
        "## Dados sobre o tempo de vida de Animais\n",
        "\n",
        "Digamos que você queira saber o quão velho é um animal em \"anos humanos\".\n",
        "\n",
        "Podemos usar a seguinte formula para determinar isso:\n",
        "\n",
        "$\\frac{\\text{Maximo de vida humana}}{\\text{Maximo de vida de um animal não humano}} =  \\text{Anos de animais não humanos para humanos}$\n",
        "\n",
        "*Nota: Essa é uma forma bem **rústica** para determinar taxas de conversão de idade. Na [verdade](https://www.akc.org/expert-advice/health/how-to-calculate-dog-years-to-human-years/) é bem mais complicado que isso*\n",
        "\n",
        "\n",
        "Por quê estamos usando longevidade ao invés de.. por exemplo a *média da expectativa de vida*? \n",
        "\n",
        "De acordo com o [Banco de dados de longevidade e expectativa de vida animal](https://www.johnsnowlabs.com/marketplace/the-animal-aging-and-longevity-database/) (John Snow Labs):\n",
        "\n",
        "> \"[...] [M]áxima longevidade (também conhecido como tempo de vida) [...] é o parâmetro amplamente usado para comparação de taxa de envelhecimento entre as espécies.\"\n",
        "\n"
      ]
    },
    {
      "cell_type": "markdown",
      "metadata": {
        "id": "qyNkvtwm2HpS"
      },
      "source": [
        "\n",
        "Primeiro, alguns pontos importantes.\n",
        "\n",
        "\n",
        "**Longevidade humana**\n",
        "\n",
        "O ser-humano que mais viveu foi uma mulher chamada: [Jeanne Calment](https://en.wikipedia.org/wiki/Jeanne_Calment). Francesa, atingiu a idade de **122(!)**. Nasceu em 1875 e viveu até 1997.\n",
        "\n",
        "**Estatísticas sobre a longevidade animal**\n",
        "\n",
        " Aqui está uma tabela com a máxima longevidade de vários animais:\n",
        "\n",
        "| Animal | Maxima longevidade (em anos)|\n",
        "| --- | --- | \n",
        "| Humano | 122.5 | \n",
        "| Cão doméstico | 24.0 | \n",
        "| Gato doméstico | 30.0 | \n",
        "| Alligator | 77.0 | \n",
        "| Hamster | 3.9 | \n",
        "| Pinguin Real | 26.0 | \n",
        "| Leão |\t27.0 | \n",
        "| Tubarão da Groenlandia\t | 392.0 | \n",
        "| Tártaruga de Galapagos | 177.0 | \n",
        "| Elefante africano\t | 65.0 | \n",
        "| Leão marinho da California\t| 35.7\t | \n",
        "| Mosca da fruta\t\t| 0.3\t | \n",
        "| Camundongo\t\t| 4.0\t |\n",
        "| Girafa\t\t| 39.5\t |\n",
        "| Javali selvagem\t\t| 27.0\t|\n",
        "\n",
        "\n",
        "\t\n",
        "*Fonte: [Animal Ageing and Longevity Database](https://www.johnsnowlabs.com/marketplace/the-animal-aging-and-longevity-database/)*.\n"
      ]
    },
    {
      "cell_type": "markdown",
      "metadata": {
        "id": "XQecBq4BEbIe"
      },
      "source": [
        "### Anos de cachorro para anos de humanos\n",
        "\n",
        "Calculando a taxa de conversão de animal não humano para humano:"
      ]
    },
    {
      "cell_type": "code",
      "metadata": {
        "id": "2pC2P4GCTzSS"
      },
      "source": [
        "# Faça um cálculo usando a fórmula aprendida acima:\n",
        "# máxima longevidade humana/máxima longevidade canina = ?"
      ],
      "execution_count": null,
      "outputs": []
    },
    {
      "cell_type": "markdown",
      "metadata": {
        "id": "AhsJ-qz33QdU"
      },
      "source": [
        "Então para cada ano que os seres humanos envelhecem, cachorros \"envelhecem\" 5.1 anos humanos.\n",
        "\n",
        "Ou melhor:\n",
        "Cada 1 ano para nós, representa aproximadamente 5.1 anos para os cachorros."
      ]
    },
    {
      "cell_type": "markdown",
      "metadata": {
        "id": "efpl0PHrUEAf"
      },
      "source": [
        "Qual a idade de um cachorro de 15 anos em \"anos humanos\"?"
      ]
    },
    {
      "cell_type": "code",
      "metadata": {
        "id": "aHz5X7TnaydH"
      },
      "source": [
        "#taxa de conversão * 15\n",
        "5.104167*15"
      ],
      "execution_count": null,
      "outputs": []
    },
    {
      "cell_type": "markdown",
      "metadata": {
        "id": "_LWlDuGmGftQ"
      },
      "source": [
        "# Objetos no R \n",
        "\n",
        "Pode ser bastante tedioso ficar digitando esses números várias e várias vezes.\n",
        "\n",
        "Para simplificar esse processo existem **OBJETOS em R**.\n",
        "\n",
        "Um objeto é uma forma de **gravar informação**, ele pode guardar números, textos, funções, tabelas, entre outras coisas.\n",
        "\n",
        "Ao criar um objeto estamos gravando a informação no nosso ambiente de trabalho e podemos buscar essa informação nesse objeto sempre que quisermos simplesmente chamando o nome do objeto e rodando a célula.\n",
        "\n",
        "Criamos objetos no R usando o operador de atribuição:\n",
        "\n",
        "> **<-**\n",
        "\n",
        "ou igual:\n",
        "\n",
        "> **=**\n",
        "\n",
        "[Guia estiloso do tidyverse](https://style.tidyverse.org/) recomenda o uso de **<-** para criação de objetos, e vamos usar este com mais frequência. \n",
        "\n",
        "Um exemplo de criação de objeto:\n",
        "\n",
        "1. Primeiro, designamos o máximo de vida humana para uma variável chamada `vida_humana`. Depois, designamos o máximo de vida de um cão para `vida_cao`."
      ]
    },
    {
      "cell_type": "code",
      "metadata": {
        "id": "BO0X81eKU4De"
      },
      "source": [
        "#Leia essa célula para criar 2 objetos, um chamado \"vida_huamana\" e outro chamado \"vida_cao\"\n",
        "vida_humana  <- 122.5\n",
        "vida_cao <- 24"
      ],
      "execution_count": null,
      "outputs": []
    },
    {
      "cell_type": "markdown",
      "metadata": {
        "id": "f9XzHs6wVMS8"
      },
      "source": [
        "Se rodarmos as células abaixo (botão play) perceberemos que o computador nos retorna os números salvos.\n"
      ]
    },
    {
      "cell_type": "code",
      "metadata": {
        "id": "o9BFbuQFVwlp"
      },
      "source": [
        "vida_humana"
      ],
      "execution_count": null,
      "outputs": []
    },
    {
      "cell_type": "code",
      "metadata": {
        "id": "xnUmdPiPVzCX"
      },
      "source": [
        "vida_cao"
      ],
      "execution_count": null,
      "outputs": []
    },
    {
      "cell_type": "markdown",
      "metadata": {
        "id": "VI55pnH_V3zw"
      },
      "source": [
        "Agora podemos fazer os mesmos cálculos de antes, porém desta vez usando objetos!"
      ]
    },
    {
      "cell_type": "code",
      "metadata": {
        "id": "igt02PIIV40_"
      },
      "source": [
        "cao_para_humano <- vida_humano / vida_cao"
      ],
      "execution_count": null,
      "outputs": []
    },
    {
      "cell_type": "markdown",
      "metadata": {
        "id": "0T7VnpJEWKCE"
      },
      "source": [
        "A variável `cao_para_humano` agora mantém o valor da conversão de anos de cachorro em anos humanos."
      ]
    },
    {
      "cell_type": "code",
      "metadata": {
        "id": "Lof7r_xiWEiR"
      },
      "source": [
        "cao_para_humano"
      ],
      "execution_count": null,
      "outputs": []
    },
    {
      "cell_type": "markdown",
      "metadata": {
        "id": "ipiekIr9Wh4j"
      },
      "source": [
        "*Agora* perguntamos novamente: quão idoso é um cachorro de 15 anos em \"anos humanos\"?"
      ]
    },
    {
      "cell_type": "code",
      "metadata": {
        "id": "8ep7sEvgWI3i"
      },
      "source": [
        "cao_para_humano*15"
      ],
      "execution_count": null,
      "outputs": []
    },
    {
      "cell_type": "markdown",
      "metadata": {
        "id": "nQwawgtuD6jI"
      },
      "source": [
        "Mesmo resultado de antes.\n",
        "\n",
        "#Por quê é importante usar objetos?\n"
      ]
    },
    {
      "cell_type": "markdown",
      "metadata": {
        "id": "M0ftpT9hEnUJ"
      },
      "source": [
        "### Anos de gato para anos de humanos"
      ]
    },
    {
      "cell_type": "code",
      "metadata": {
        "id": "TBpm6Du-UmS3"
      },
      "source": [
        "vida_gato <- 30"
      ],
      "execution_count": null,
      "outputs": []
    },
    {
      "cell_type": "code",
      "metadata": {
        "id": "0GErx00RUmkR"
      },
      "source": [
        "gato_para_humano <- vida_humano/vida_gato\n",
        "\n",
        "gato_para_humano * 15"
      ],
      "execution_count": null,
      "outputs": []
    },
    {
      "cell_type": "markdown",
      "metadata": {
        "id": "Q1EucjhaD9Vh"
      },
      "source": [
        "\n",
        "> Note que o nome do objeto poderia ser qualquer coisa aqui! Escolhemos nomes fáceis de lembrar e auto-explicativos, mas poderiamos ter escolhido qualquer outro nome como **`x`**, **`y`** ou **`z`**. Ou **`biloba`**. Ou qualquer coisa. Você entendeu."
      ]
    },
    {
      "cell_type": "markdown",
      "metadata": {
        "id": "fDohQuMqWnC-"
      },
      "source": [
        "\n",
        "\n",
        "## Uma nota sobre nomear as paradas\n",
        "\n",
        "\n",
        "> $$\\color{blue}{\\text{\"Existem duas coisas difíceis no campo das Ciências da Computação:}}$$\n",
        "> $$\\color{blue}{\\text{invalidação de cache e nomear as paradas. ~ Phil Karlton\"}}$$\n",
        "\n",
        "![](https://pbs.twimg.com/media/ELuERYrU0AAI_7b?format=jpg&name=4096x4096)\n",
        "\n",
        "\n",
        "Artista: [Allison Horst](https://github.com/allisonhorst/stats-illustrations)\n",
        "\n",
        "Existem muitas abordagens para nomear as paradas em programação.\n",
        "\n",
        "Por aqui estamos usando uma técnica chamada *lower snake case*, que também é parte do [guia estiloso do tidyverse](https://style.tidyverse.org/syntax.html).  \n",
        "\n",
        "Usamos sublinhados ou underscores (`_`) para separar letras de um nome.\n",
        "\n",
        "Exemplo:\n",
        "\n",
        "```markdown\n",
        "# Recomendado\n",
        "animal_lifespan\n",
        "\n",
        "# Não recomendado\n",
        "AnimalLifespan\n",
        "animal.lifespan\n",
        "```\n",
        "\n",
        "É uma questão de estilo, mas também de boas práticas!\n",
        "\n"
      ]
    },
    {
      "cell_type": "markdown",
      "metadata": {
        "id": "36d4UdDFW5JY"
      },
      "source": [
        "# Operadores Lógicos\n",
        "\n",
        "Existem ainda mais operadores! O R conhece toneladas deles.\n",
        "\n",
        "Operadores lógicos podem ser usados para Testes lógicos que podem resultar em: \n",
        "\n",
        "$\\text{TRUE}$ ou $\\text{FALSE}$\n",
        "\n",
        "*(isso é conhecido como uma variável BOOLEANA)*\n",
        "\n",
        "Bora criar uns objetos e tentar alguns Testes lógicos!"
      ]
    },
    {
      "cell_type": "code",
      "metadata": {
        "id": "AgXGzzcMYtls"
      },
      "source": [
        "# note que os nomes dos objetos estão inglês. Escolha entre continuar usando os \n",
        "# mesmos nomes ou renomear os objetos.\n",
        "lion_lifespan <- 27\n",
        "mouse_lifespan <- 4\n",
        "fly_lifespan <- 0.3\n",
        "boar_lifespan <- 27\n",
        "alligator_lifespan <- 77\n",
        "greenland_shark_lifespan <- 392\n",
        "galapagos_tortoise_lifespan <- 177\n",
        "#escolha um animal, pesquise seu tempo de vida máximo e inclua aqui:\n"
      ],
      "execution_count": null,
      "outputs": []
    },
    {
      "cell_type": "markdown",
      "metadata": {
        "id": "UF-1XJ1QX5Wd"
      },
      "source": [
        "\n",
        "## Igualdade\n",
        "\n",
        "**`==`** pergunta se dois valores são os mesmos ou iguais."
      ]
    },
    {
      "cell_type": "code",
      "metadata": {
        "id": "FLQ2-lHbYE6D"
      },
      "source": [
        "# se você trocou o nome dos objetos, terá que escrever aqui, se não apenas clique em play na célula \n",
        "lion_lifespan == boar_lifespan"
      ],
      "execution_count": null,
      "outputs": []
    },
    {
      "cell_type": "markdown",
      "metadata": {
        "id": "2664x_YeZT0e"
      },
      "source": [
        "O código acima testa a seguinte afirmação: \n",
        ">  O tempo de vida de um leão é igual ao tempo de vida de um javali. \n",
        "\n",
        "Como ambos tem 27 anos máximos de vida, a resposta claramente é **`TRUE`** (verdadeiro).\n",
        "\n",
        "## Diferença ou diferentes\n",
        "\n",
        "**`!=`** pergunta se dois valores não são os mesmos ou são diferentes.\n",
        "\n"
      ]
    },
    {
      "cell_type": "code",
      "metadata": {
        "id": "EBBUrpELZdGy"
      },
      "source": [
        "# mesma nota da célula anterior\n",
        "lion_lifespan != boar_lifespan\n",
        "\n",
        "# tente com dois objetos diferentes para receber TRUE"
      ],
      "execution_count": null,
      "outputs": []
    },
    {
      "cell_type": "markdown",
      "metadata": {
        "id": "VhfD7VjHZicR"
      },
      "source": [
        "O código acima testa o inverso da nossa primeira afirmação:\n",
        ">  O tempo de vida de um leão **não é igual** que o tempo de vida de um Javali. \n",
        "\n",
        "Como ambos os tempos de vida são `27` isso é uma afirmação **`FALSE`**\n",
        "\n",
        "## Maior ou menor\n",
        "\n",
        "Podemos também testar se certos valores são maiores ou menores do que outros:\n",
        "\n",
        "`>` maior que\n",
        "\n"
      ]
    },
    {
      "cell_type": "code",
      "metadata": {
        "id": "49JJSFBRaMrX"
      },
      "source": [
        "# atenção aos objetos\n",
        "human_lifespan > fly_lifespan"
      ],
      "execution_count": null,
      "outputs": []
    },
    {
      "cell_type": "markdown",
      "metadata": {
        "id": "n8CFSisiadA8"
      },
      "source": [
        "O código acima testa a seguinte afirmação: \n",
        ">  O tempo de vida de um humano é maior que o tempo de vida de uma mosca da fruta (fly). \n",
        "\n",
        "Como o valor máximo de vida humana é `122.5` e da mosca não chega a 1 ano: `0.3` anos, então essa é uma clara afirmação **`TRUE`**."
      ]
    },
    {
      "cell_type": "code",
      "metadata": {
        "id": "3biubJ-bbI5g"
      },
      "source": [
        "alligator_lifespan < mouse_lifespan"
      ],
      "execution_count": null,
      "outputs": []
    },
    {
      "cell_type": "markdown",
      "metadata": {
        "id": "Dxe0vptYbQmd"
      },
      "source": [
        "O código acima testa a seguinte afirmação:\n",
        ">  O tempo de vida de um alligator é menor que o tempo de vida de um camundongo. \n",
        "\n",
        "Como o tempo de vida do alligator é `77` e o camundongo vive por `4` anos, então isso é com certeza uma afirmação **`FALSE`**.\n",
        "\n",
        "#Também temos as seguintes opções:\n",
        "\n",
        "*   `>=` Maior que ou igual\n",
        "*   `<=` Menor que ou igual\n"
      ]
    },
    {
      "cell_type": "code",
      "metadata": {
        "id": "MSl0jDDLbpYL"
      },
      "source": [
        "20 >= 20"
      ],
      "execution_count": null,
      "outputs": []
    },
    {
      "cell_type": "code",
      "source": [
        "#Faça alguns testes aqui"
      ],
      "metadata": {
        "id": "E61hDdNIWV4T"
      },
      "execution_count": null,
      "outputs": []
    },
    {
      "cell_type": "code",
      "source": [
        ""
      ],
      "metadata": {
        "id": "d9PsDIZ7WV8T"
      },
      "execution_count": null,
      "outputs": []
    },
    {
      "cell_type": "markdown",
      "metadata": {
        "id": "zOOiDHliRGZ9"
      },
      "source": [
        "# Combinando Operadores Lógicos\n",
        "\n",
        "Podemos combinar testes lógicos para testar várias afirmações ao mesmo tempo:\n",
        "\n",
        "* `&` significa \"e\" (sem surpresas!)\n",
        "* `|` significa \"ou\" (um pouco menos esperado)\n",
        "\n",
        "Por exemplo ambos `alligator_lifespan` (atenção ao nome do objeto criado anteriormente) e `fly_lifespan` tem que ser maiores que `mouse_lifespan` para que o código abaixo seja validado como `TRUE` pelo computador.\n"
      ]
    },
    {
      "cell_type": "code",
      "metadata": {
        "id": "KshPxE_JRN-L"
      },
      "source": [
        "alligator_lifespan > mouse_lifespan & fly_lifespan > mouse_lifespan"
      ],
      "execution_count": null,
      "outputs": []
    },
    {
      "cell_type": "markdown",
      "metadata": {
        "id": "Q-6yI23fRTp3"
      },
      "source": [
        "Se dizemos `|` (= ou), significa que se qualquer afirmação ser validada com `TRUE` é o bastante!\n",
        "\n",
        "\n"
      ]
    },
    {
      "cell_type": "code",
      "metadata": {
        "id": "cae001cGRa31"
      },
      "source": [
        "alligator_lifespan > mouse_lifespan | fly_lifespan > mouse_lifespan"
      ],
      "execution_count": null,
      "outputs": []
    },
    {
      "cell_type": "markdown",
      "metadata": {
        "id": "_N5-N7tPbr4r"
      },
      "source": [
        "\n",
        "# Vetores\n",
        "\n",
        "\n",
        "Ok, aprendemos sobre objetos. Mas até o momento apenas aprendemos como guardar um único valor numérico.\n",
        "\n",
        "A linguagem R é com certeza muito mais poderosa que isso. Objetos podem manter qualquer número e outros tipos de dados também.\n",
        "\n",
        "De fato é bom lembrar que:\n",
        "\n",
        "> $\\color{blue}{\\text{\"Tudo o que existe em R é um objeto.\"}}$\n",
        "~John M. Chambers\n",
        "\n",
        "Agora bora dar uma olhada em **vetores**, ou objetos que invluem mais de um valor!\n",
        "\n",
        "Podemos imaginar vetores como uma simples lista de valores. Esses vetores podem conter números, mas também `strings` ou texto.\n",
        "\n",
        "Para criar um vetor em R, fazemos uso de uma função chamada `c()` (que significa \"concatenar\" ou \"combinar\")"
      ]
    },
    {
      "cell_type": "code",
      "metadata": {
        "id": "Os1hjMrq6GbD",
        "colab": {
          "base_uri": "https://localhost:8080/",
          "height": 34
        },
        "outputId": "c6768972-774d-4507-b0bd-6e1696bbbfb4"
      },
      "source": [
        "#Aqui criamos um vetor com 4 espaços, cada um recebendo um número de 1 a 4.\n",
        "c(1, 2, 3, 4)"
      ],
      "execution_count": null,
      "outputs": [
        {
          "output_type": "display_data",
          "data": {
            "text/plain": [
              "[1] 1 2 3 4"
            ],
            "text/latex": "\\begin{enumerate*}\n\\item 1\n\\item 2\n\\item 3\n\\item 4\n\\end{enumerate*}\n",
            "text/markdown": "1. 1\n2. 2\n3. 3\n4. 4\n\n\n",
            "text/html": [
              "<style>\n",
              ".list-inline {list-style: none; margin:0; padding: 0}\n",
              ".list-inline>li {display: inline-block}\n",
              ".list-inline>li:not(:last-child)::after {content: \"\\00b7\"; padding: 0 .5ex}\n",
              "</style>\n",
              "<ol class=list-inline><li>1</li><li>2</li><li>3</li><li>4</li></ol>\n"
            ]
          },
          "metadata": {}
        }
      ]
    },
    {
      "cell_type": "markdown",
      "metadata": {
        "id": "AUZfuTyE6Ih-"
      },
      "source": [
        "Podemos até combinar nossos objetos criados anteriormente:"
      ]
    },
    {
      "cell_type": "code",
      "metadata": {
        "id": "W2Jh3uNkbH8D"
      },
      "source": [
        "c(greenland_shark_lifespan, dog_lifespan, \n",
        "  galapagos_tortoise_lifespan,\n",
        "  mouse_lifespan, fly_lifespan,\n",
        "  lion_lifespan, boar_lifespan,\n",
        "  alligator_lifespan, human_lifespan)\n"
      ],
      "execution_count": null,
      "outputs": []
    },
    {
      "cell_type": "markdown",
      "metadata": {
        "id": "P1mTPHKbkCs7"
      },
      "source": [
        "Podemos criar vetores com strings ou texto usando aspas \" \":\n"
      ]
    },
    {
      "cell_type": "code",
      "metadata": {
        "id": "a5dXhO3njxpf"
      },
      "source": [
        "c(\"greenland_shark\", \"dog\", \n",
        "  \"galapagos_tortoise\", \"mouse\", \n",
        "  \"fly\", \"lion\", \"boar\",\n",
        "  \"alligator\", \"human\")"
      ],
      "execution_count": null,
      "outputs": []
    },
    {
      "cell_type": "markdown",
      "metadata": {
        "id": "ZnoTrfP3kI1n"
      },
      "source": [
        "E claro! Podemos colocar os vetores em objetos.\n",
        "\n",
        "Bora criar um vetor `vida_animais` com os diferentes tempos de vida dos animais."
      ]
    },
    {
      "cell_type": "code",
      "metadata": {
        "id": "9vOk8S4TdIMO"
      },
      "source": [
        "vida_animais <- c(greenland_shark_lifespan, dog_lifespan, \n",
        "  galapagos_tortoise_lifespan,\n",
        "  mouse_lifespan, fly_lifespan,\n",
        "  lion_lifespan, boar_lifespan, \n",
        "  alligator_lifespan, human_lifespan)\n"
      ],
      "execution_count": null,
      "outputs": []
    },
    {
      "cell_type": "markdown",
      "metadata": {
        "id": "ExXkKfEukvde"
      },
      "source": [
        "Agora se quisermos ter diferentes conversões de idade entre animais não humanos e humanos, podemos dividir o máximo tempo de vida humano por esse vetor (objeto = vida_animais)."
      ]
    },
    {
      "cell_type": "code",
      "metadata": {
        "id": "aG7rdXPhW4d-"
      },
      "source": [
        "vida_humano/vida_animais"
      ],
      "execution_count": null,
      "outputs": []
    },
    {
      "cell_type": "markdown",
      "metadata": {
        "id": "utx6elOmkbnv"
      },
      "source": [
        "Perceba como a operação é feita para cada ITEM do vetor separadamente, e que o resultado é... OUTRO VETOR!\n",
        "\n"
      ]
    },
    {
      "cell_type": "code",
      "metadata": {
        "id": "7B8mtF13ddxM"
      },
      "source": [
        "vida_animais_para_humanos <- vida_humano/vida_animais"
      ],
      "execution_count": null,
      "outputs": []
    },
    {
      "cell_type": "markdown",
      "metadata": {
        "id": "bYk1Rb5Vk73u"
      },
      "source": [
        "Podemos também usar operadores lógicos com vetores:\n",
        "\n"
      ]
    },
    {
      "cell_type": "code",
      "metadata": {
        "id": "XcPlzKaWdkmO"
      },
      "source": [
        "vida_animais_para_humanos < 1"
      ],
      "execution_count": null,
      "outputs": []
    },
    {
      "cell_type": "markdown",
      "metadata": {
        "id": "rPpPk0ttk_pQ"
      },
      "source": [
        "Novamente, perceba que cada operação é feita para cada ITEM separadamente e que o resultado é novamente outro vetor, desta vez contendo uma série de `TRUE` e `FALSE`. Verdadeiros e Falsos.\n",
        "\n",
        "\n",
        "\n",
        "\n"
      ]
    },
    {
      "cell_type": "markdown",
      "metadata": {
        "id": "eKUuHwGr84CK"
      },
      "source": [
        "## Pequena nota sobre tipos de variáveis\n",
        "\n",
        "Existem 4 principais tipos de variáveis:\n",
        "\n",
        "* **logical (ou lógica)**: Boolean/binary (Booleana ou Binária), é sempre `TRUE` ou `FALSE`\n"
      ]
    },
    {
      "cell_type": "code",
      "metadata": {
        "id": "HiD76mBaHgY4",
        "colab": {
          "base_uri": "https://localhost:8080/",
          "height": 34
        },
        "outputId": "899b2167-39fb-4c9f-a7dc-aa81b07ec6dc"
      },
      "source": [
        "#com a função \"class()\" podemos compreender os tipos de variáveis para o computador\n",
        "class(TRUE)"
      ],
      "execution_count": null,
      "outputs": [
        {
          "output_type": "display_data",
          "data": {
            "text/plain": [
              "[1] \"logical\""
            ],
            "text/latex": "'logical'",
            "text/markdown": "'logical'",
            "text/html": [
              "'logical'"
            ]
          },
          "metadata": {}
        }
      ]
    },
    {
      "cell_type": "markdown",
      "metadata": {
        "id": "TAiuy86PHpwL"
      },
      "source": [
        "* **character (or string) (texto)**: texto simples, incluindo simbolos e números `\"texto\"`\n"
      ]
    },
    {
      "cell_type": "code",
      "metadata": {
        "id": "Ib5_HrEQHrR9"
      },
      "source": [
        "class(\"Eu sou um texto\")"
      ],
      "execution_count": null,
      "outputs": []
    },
    {
      "cell_type": "code",
      "source": [
        "class(\"Tudo que estiver entre aspas vai ser interpret@d0 com0 t2xt0\")"
      ],
      "metadata": {
        "colab": {
          "base_uri": "https://localhost:8080/",
          "height": 34
        },
        "id": "CeE336I0enxf",
        "outputId": "3f6027f7-a876-476a-e3c6-7b9b56f0218f"
      },
      "execution_count": null,
      "outputs": [
        {
          "output_type": "display_data",
          "data": {
            "text/plain": [
              "[1] \"character\""
            ],
            "text/latex": "'character'",
            "text/markdown": "'character'",
            "text/html": [
              "'character'"
            ]
          },
          "metadata": {}
        }
      ]
    },
    {
      "cell_type": "code",
      "source": [
        "class(\"Em programação são utilizados os termos caracter, string ou character\")"
      ],
      "metadata": {
        "id": "vOnPwPuQen50"
      },
      "execution_count": null,
      "outputs": []
    },
    {
      "cell_type": "markdown",
      "metadata": {
        "id": "_JtAFydQH4DN"
      },
      "source": [
        "* **numeric (numérico)**: Literalmente números. Operadores matemáticos podem ser usados aqui.\n",
        "\n"
      ]
    },
    {
      "cell_type": "code",
      "metadata": {
        "id": "cAiSYPSkIIgm"
      },
      "source": [
        "class(2020)"
      ],
      "execution_count": null,
      "outputs": []
    },
    {
      "cell_type": "markdown",
      "metadata": {
        "id": "0qX8TN8GHriN"
      },
      "source": [
        "\n",
        "\n",
        "* **factor (fator)**: Números ou strings (texto) ORDENADOS de alguma forma\n"
      ]
    },
    {
      "cell_type": "code",
      "metadata": {
        "id": "T6pYw9DgH28W"
      },
      "source": [
        "class(as.factor(c(\"Eu\", \"sou\", \"um\", \"fator\")))"
      ],
      "execution_count": null,
      "outputs": []
    },
    {
      "cell_type": "code",
      "source": [
        "class(as.factor(c(1, 2, 3, 4)))"
      ],
      "metadata": {
        "colab": {
          "base_uri": "https://localhost:8080/",
          "height": 34
        },
        "id": "ujhYuqKsfLFQ",
        "outputId": "a49b7240-5ed9-4873-96e6-7be8a95718e3"
      },
      "execution_count": null,
      "outputs": [
        {
          "output_type": "display_data",
          "data": {
            "text/plain": [
              "[1] \"factor\""
            ],
            "text/latex": "'factor'",
            "text/markdown": "'factor'",
            "text/html": [
              "'factor'"
            ]
          },
          "metadata": {}
        }
      ]
    },
    {
      "cell_type": "markdown",
      "metadata": {
        "id": "8nijGZ1kIIy-"
      },
      "source": [
        "Outro importante valor para conhecer é o `NA`. Vem do inglês \"Not Available\" ou Não Disponível e simplesmente significa que ali (no objeto) não existe valor (em inglês é conhecido como *missing value*).\n",
        "\n",
        "Existe bem mais como datas e tempo, mas não vamos falar sobre isso agora."
      ]
    },
    {
      "cell_type": "code",
      "metadata": {
        "id": "7OKnEs37ckFw"
      },
      "source": [
        "c(NA, 1, 2, NA)"
      ],
      "execution_count": null,
      "outputs": []
    },
    {
      "cell_type": "markdown",
      "metadata": {
        "id": "m2xwYBEpFEJj"
      },
      "source": [
        "## Um operador lógico para tratar vetores: `%in%`\n",
        "\n",
        "Um operador incrivelmente útil para lidar com vetores é o **`%in%`**.\n",
        "\n",
        "Este operador checa se vários elementos ocorrem em algum lugar em seus vetores.\n",
        "\n",
        "Para usar este operador basta fazer assim:\n",
        "\n",
        "$\\color{red}{\\text{vetor1}}$ %in% $\\color{orange}{\\text{vetor2}}$\n",
        "\n",
        "Vamos primeiro criar um vetor chamado `animais` que inclui todos os animais"
      ]
    },
    {
      "cell_type": "code",
      "metadata": {
        "id": "bTf1m2r2iKH8"
      },
      "source": [
        "animais <- c(\"greenland_shark\", \"dog\", \n",
        "  \"galapagos_tortoise\", \"mouse\", \n",
        "  \"fly\", \"lion\", \"boar\",\n",
        "  \"alligator\", \"human\")\n",
        "\n"
      ],
      "execution_count": null,
      "outputs": []
    },
    {
      "cell_type": "markdown",
      "metadata": {
        "id": "mZxDyGluluAG"
      },
      "source": [
        "Digamos que queremos checar se `giraffe`, `greenland_shark` ou `lion` estão em `animais`. \n",
        "\n",
        "Se usarmos `|` teríamos que escrever algo assim:"
      ]
    },
    {
      "cell_type": "code",
      "metadata": {
        "id": "-d8IOAH0lu2T"
      },
      "source": [
        "animais == \"giraffe\" | animais == \"greenland_shark\"  | animais == \"lion\""
      ],
      "execution_count": null,
      "outputs": []
    },
    {
      "cell_type": "markdown",
      "metadata": {
        "id": "J20wO7mGmLUa"
      },
      "source": [
        "Agora com `%in%` podemos simplesmente passar um vetor assim:\n"
      ]
    },
    {
      "cell_type": "code",
      "metadata": {
        "id": "UPbTivRMmNal"
      },
      "source": [
        "checar_animais <-  c(\"giraffe\", \"greenland_shark\", \"lion\")\n",
        "animais %in% checar_animais"
      ],
      "execution_count": null,
      "outputs": []
    },
    {
      "cell_type": "markdown",
      "metadata": {
        "id": "8SWe960gvukp"
      },
      "source": [
        "Será que o `greenlands_shark` ou a `giraffe` estão em nosso vetor `animais`?\n"
      ]
    },
    {
      "cell_type": "code",
      "metadata": {
        "id": "2hlCKkrcv-_J"
      },
      "source": [
        "c(\"greenland_shark\", \"giraffe\") %in% animais "
      ],
      "execution_count": null,
      "outputs": []
    },
    {
      "cell_type": "code",
      "metadata": {
        "id": "JzDbE9GyevcI"
      },
      "source": [
        "animais %in%  c(\"greenland_shark\", \"giraffe\") "
      ],
      "execution_count": null,
      "outputs": []
    },
    {
      "cell_type": "markdown",
      "metadata": {
        "id": "3hwfFLO5iUyR"
      },
      "source": [
        "# Indexando\n",
        "\n",
        "Indexar ou Indexing é feito via colchetes `[]` e serve para encontrarmos algum valor específico dentro do nosso objeto.\n",
        "\n",
        "> $$\\color{red}{\\text{vetor}}[\\color{orange}{\\text{elementos}}]$$\n",
        "\n",
        "Extraindo o primeiro elemento de um vetor:"
      ]
    },
    {
      "cell_type": "code",
      "metadata": {
        "id": "jbSMeT-qig1H"
      },
      "source": [
        "vida_animais[1]"
      ],
      "execution_count": null,
      "outputs": []
    },
    {
      "cell_type": "code",
      "metadata": {
        "id": "N2lGHAGA7aSU"
      },
      "source": [
        "animais[1]"
      ],
      "execution_count": null,
      "outputs": []
    },
    {
      "cell_type": "markdown",
      "metadata": {
        "id": "ZHYwiwqd4Y0X"
      },
      "source": [
        "Extraindo o quinto elemento de um vetor:"
      ]
    },
    {
      "cell_type": "code",
      "metadata": {
        "id": "EIVx-YEEij-9"
      },
      "source": [
        "vida_animais[5]"
      ],
      "execution_count": null,
      "outputs": []
    },
    {
      "cell_type": "code",
      "metadata": {
        "id": "R0tSDN2s7fd7"
      },
      "source": [
        "animais[5]"
      ],
      "execution_count": null,
      "outputs": []
    },
    {
      "cell_type": "code",
      "metadata": {
        "id": "Ds14oGdWdf4n"
      },
      "source": [
        "animais[c(1, 3, 5)]"
      ],
      "execution_count": null,
      "outputs": []
    },
    {
      "cell_type": "markdown",
      "metadata": {
        "id": "5cAxOXBv8KZ6"
      },
      "source": [
        "## Indexando com testes lógicos\n",
        "\n",
        "Também é possível indexar usando teste lógicos.\n",
        "\n",
        "Se uma expressão for avaliada como `TRUE` (verdadeira) pelo computador, então o elemento verdadeiro será **guardado** e quando for avaliada `FALSE` o **elemento** será removido.\n",
        "\n",
        "> $$\\color{red}{\\text{vetor}}[\\color{orange}{\\text{vetor de TRUE/FALSE com mesmo tamanho}}]$$\n",
        "\n",
        "Veja alguns testes lógicos que extraem todos os animais que possuem mais tempo de vida que os humanos:"
      ]
    },
    {
      "cell_type": "code",
      "metadata": {
        "id": "G--oUtHu70JS"
      },
      "source": [
        "vida_animais > vida_humano"
      ],
      "execution_count": null,
      "outputs": []
    },
    {
      "cell_type": "markdown",
      "metadata": {
        "id": "S-T-oQ3S5Edz"
      },
      "source": [
        "Agora podemos usar colchetes `[]` para apenas manter aqueles animaisque possuírem maior tempo de vida que os humanos."
      ]
    },
    {
      "cell_type": "code",
      "metadata": {
        "id": "iS81gwtw7g1a"
      },
      "source": [
        "animais[vida_animais > vida_humano]"
      ],
      "execution_count": null,
      "outputs": []
    },
    {
      "cell_type": "markdown",
      "source": [
        "#Será que você é capaz de fazer o mesmo, porém apenas para animais que possuírem tempo de vida menor que o dos humanos?\n",
        "\n",
        "Adicionei algumas células para tentar:"
      ],
      "metadata": {
        "id": "t7t9VgaXiLtI"
      }
    },
    {
      "cell_type": "code",
      "source": [
        ""
      ],
      "metadata": {
        "id": "mx67r26eiYK2"
      },
      "execution_count": null,
      "outputs": []
    },
    {
      "cell_type": "code",
      "source": [
        ""
      ],
      "metadata": {
        "id": "Ad0xepPUiYec"
      },
      "execution_count": null,
      "outputs": []
    },
    {
      "cell_type": "markdown",
      "metadata": {
        "id": "B6gH1_4aipPX"
      },
      "source": [
        "# Funções\n",
        "\n",
        "\n",
        "\n",
        "> $\\color{blue}{\\text{\"Tudo que acontece em R é uma função.\"}}$\n",
        "~John M. Chambers\n",
        "\n",
        "Você pode pensar em funções como pequenas máquinas que (na maior parte dos casos) processa algum **input** (**entrada**) e cria um **output** (**saída**).\n",
        "\n",
        "Input (ou entrada) é tudo o que (pasmem) *entra* numa função:\n",
        "\n",
        "*   **argumentos** você pode imaginar argumentos como algum input pré-determinado como uma alavanca ou um teclado numérico.\n",
        "\n",
        "*   **valores** são as várias configurações que as alavancas ou os teclados numéricos podem ter.\n",
        "\n",
        "\n",
        "\n",
        "\n"
      ]
    },
    {
      "cell_type": "markdown",
      "metadata": {
        "id": "faswqpLGsP2v"
      },
      "source": [
        "## O Gerador Estelar\n",
        "\n",
        "Bora considerar a seguinte função (que infelizmente ainda não existe):\n",
        "O `gerador_estelar`!\n",
        "\n",
        "Essa pequena máquina gera um pequeno desenho de estrelas dependendo do input. Precisa de dois argumentos:\n",
        "\n",
        "* `how_many` fala para a máquina quantas estrelas produzir\n",
        "* `type` fala para a máquina como as estrelas devem parecer (nesse caso a máquina apenas suportará  estrelas `\"squiggly\"`, mas isso pode ser aprimorado no futuro quando aprendermos mais como criar nossas próprias funções)\n",
        "\n",
        "![Image](https://raw.githubusercontent.com/favstats/hertieschool_datasciencesummerschool/master/img/starproducer2.png)\n",
        "\n",
        "\n",
        "Nota: assim como alavancas ou teclados numéricos você também precisa ser cuidadoso com o tipo de valor experado num argumento. Você não pode colocar numeros numa alavanca, por exemplo e um teclado numérico não faz muito quando você o puxa ou balança (além de quebrar). Similarmente, um certo argumento necessita de que o input de valor numérico, ou objetos mais complexos em R."
      ]
    },
    {
      "cell_type": "markdown",
      "metadata": {
        "id": "A9r-MFKwsSsh"
      },
      "source": [
        "\n",
        "## Precisa de ajuda? Use `?help`\n",
        "\n",
        "Como saber quais valores entram em quais funções?\n",
        "\n",
        "Você pode encontrar a documentação de uma função quando digita `?` antes do nome da função. Isso deve te contar o bastante sobre argumentos, como usá-los e como usar a função, além do que esperar do output (da saída)."
      ]
    },
    {
      "cell_type": "markdown",
      "metadata": {
        "id": "kpPgqaeHqBv3"
      },
      "source": [
        "## Exemplo de função: seq\n",
        "\n",
        "Vamos tentar entender uma função que está inclusa em qualquer instalação do R: `seq`."
      ]
    },
    {
      "cell_type": "code",
      "metadata": {
        "id": "sgB9wonPqBC-"
      },
      "source": [
        "?seq"
      ],
      "execution_count": null,
      "outputs": []
    },
    {
      "cell_type": "markdown",
      "metadata": {
        "id": "_K3eqaafqXvI"
      },
      "source": [
        "Da descrição podemos aprender que essa função é usada para: \n",
        "\n",
        "> \"[g]enerate regular sequences\".\n",
        "> \"gerar sequencias regulares\".\n",
        "\n",
        "Os primeiros tres argumentos são assim:\n",
        "\n",
        "* `from`, `to`: o primeiro e (máximo) valores finais de uma sequencia.\n",
        "\n",
        "* `by`: número: incremento da sequencia.\n",
        "\n",
        "Então especificamos de quando para onde nossa sequência deve ir e por qual número deve ir incrementando.\n",
        "\n",
        "Vamos dar uma olhada dentro da nossa alegoria da máquina estelar.\n",
        "\n",
        "\n",
        "\n",
        "![Image](https://raw.githubusercontent.com/favstats/hertieschool_datasciencesummerschool/master/img/seq2.png)\n",
        "\n",
        "Se quisermos criar um vetor de 1 até 10, que incrementa de 1 em 1, podemos simples especificar isso com os seguintes valores de input no argumento da função:\n",
        "\n",
        "* `from`: 1\n",
        "* `to`: 10\n",
        "* `by`: 1\n",
        "\n",
        "É assim que se parece em código (falando com o computador):\n",
        "\n",
        "\n"
      ]
    },
    {
      "cell_type": "code",
      "metadata": {
        "id": "GeIRja2Nr22t"
      },
      "source": [
        "seq(from = 1, to = 10, by = 1)"
      ],
      "execution_count": null,
      "outputs": []
    },
    {
      "cell_type": "markdown",
      "metadata": {
        "id": "s1gnXeGcs3d-"
      },
      "source": [
        "### Passando Valores\n",
        "\n",
        "Existem duas formas de passar valores para funções em R:\n",
        "\n",
        "1.   Passar pelo argumento *names* (fizemos isso antes!)\n",
        "2.   Passar pelo argumento *position*\n",
        "\n",
        "No caso anterior, mencionamos quais argumentos gostariamos de passar o valores.\n",
        "\n",
        "Para isso, não importa em qual **ordem** passamos nossos argumentos.\n",
        "\n",
        "Então este é um código perfeitamente válido que produz o mesmo resultado que o anterior, mesmo que pareça menos intuitivo:\n",
        "\n",
        "\n"
      ]
    },
    {
      "cell_type": "code",
      "metadata": {
        "id": "-B2Qu_WNudfr"
      },
      "source": [
        "seq(to = 10, by = 1, from = 1)"
      ],
      "execution_count": null,
      "outputs": []
    },
    {
      "cell_type": "markdown",
      "metadata": {
        "id": "ygTVBPJBugB2"
      },
      "source": [
        "Porééééééém: **programadores são preguiçosos**.\n",
        "\n",
        "Não existe a necessidade de SEMPRE especificar quais argumentos você exatamente está mencionando quando você pode simplesmente combinar de acordo com a *posição*.\n",
        "\n",
        "Então nosso exemplo poderia ser assim:"
      ]
    },
    {
      "cell_type": "code",
      "metadata": {
        "id": "mYZXmM3ot8kl"
      },
      "source": [
        "seq(1, 10, 1)\n",
        "#perceba que não há necessidade de usar os nomes do argumentos que estão sendo passados"
      ],
      "execution_count": null,
      "outputs": []
    },
    {
      "cell_type": "markdown",
      "metadata": {
        "id": "mQltzZ_1t_W8"
      },
      "source": [
        "E isso funciona porque a documentação mostou que os primeiros três argumentos são `from`, `to`, e `by`.\n",
        "\n",
        "No futuro você verá quão comum é usar funções dessa forma. Acostume-se."
      ]
    },
    {
      "cell_type": "markdown",
      "metadata": {
        "id": "gIiVjMMcvKRc"
      },
      "source": [
        "## Mais exemplos: Mean (média) e Median (mediana)\n",
        "\n",
        "De fato, na maior parte do tempo as funções possuem estruturas intuitivas que normalmente não precisam nem de ?help para entendê-las (mesmo que seja aconselhável sempre olhar).\n",
        "\n",
        "Uma função simples de usar é a de média `mean()` que simplesmente calcula a média de um vetor numérico.\n",
        "\n",
        "Vamos tentar com o vetor `vida_animais` que criamos antes."
      ]
    },
    {
      "cell_type": "code",
      "metadata": {
        "id": "cPcvT6AUvM56"
      },
      "source": [
        "mean(vida_animais)"
      ],
      "execution_count": null,
      "outputs": []
    },
    {
      "cell_type": "markdown",
      "metadata": {
        "id": "9Ozx4j7Gv0sY"
      },
      "source": [
        "Uma média *Bem* velha!"
      ]
    },
    {
      "cell_type": "code",
      "metadata": {
        "id": "cyx-KFGHvv8E"
      },
      "source": [
        "median(vida_animais)"
      ],
      "execution_count": null,
      "outputs": []
    },
    {
      "cell_type": "markdown",
      "metadata": {
        "id": "8E7LlRkNv4Oi"
      },
      "source": [
        "Bem quando pegamos a mediana ao invés da média podemos ver que este número se deve aos altos outliers (a mediana tende em direção à valores extremos).\n",
        "\n",
        "Claro que existem muito mais funções em R e teremos que aprender algumas delas ao longo dessas aulas."
      ]
    },
    {
      "cell_type": "markdown",
      "metadata": {
        "id": "8w4ayHiBF0vo"
      },
      "source": [
        "# Criando nossas próprias funções\n",
        "\n",
        "Podemos criar nossas príprias funções chamando a função: `function()`.\n",
        "\n",
        "Escrevemos o que deve acontecer dentro da função entre chaves `{}`.\n",
        "\n",
        "Aqui está a anatomia de uma função:\n",
        "\n",
        "$\\color{purple}{\\text{nome}}$ <- $\\text{função}(\\color{orange}{\\text{argumento}})${\n",
        "\n",
        "\n",
        "> $\\color{green}{\\text{# corpo da função}}$\n",
        "\n",
        "> $\\color{lightblue}{\\text{valor}}$ <- $\\color{orange}{\\text{argumento}}$\n",
        "\n",
        "\n",
        "> $\\text{return(}\\color{lightblue}{\\text{valor}}\\text{)}$\n",
        "\n",
        "}\n",
        "\n",
        "* $\\color{purple}{\\text{Nome da Função}}$:\n",
        "  * Um identificador pelo qual a função é chamada \n",
        "\n",
        "* $\\color{orange}{\\text{Argumento(s)}}$:\n",
        "  * Conté, uma lista de valores passadas para a função.\n",
        "  * Também pode conter um valor padrão como: `argumento = 1`.\n",
        "\n",
        "* $\\color{green}{\\text{Corpo da Função}}$:\n",
        "  * Isso é executado toda vez que a função for chamada\n",
        "\n",
        "* $\\color{lightblue}{\\text{Return (Retornar valor)}}$:\n",
        "  * Termina a função & envia um valor de volta ao ambiente Global.\n",
        "\n",
        "\n",
        "\n"
      ]
    },
    {
      "cell_type": "markdown",
      "metadata": {
        "id": "6tKIJ6TJa_LX"
      },
      "source": [
        "## Função para elevar qualquer número ao quadrado\n",
        "\n",
        "Vamos definir a função que eleva ao quadrado valores numéricos.\n"
      ]
    },
    {
      "cell_type": "code",
      "metadata": {
        "id": "H0cWMGwamc-B"
      },
      "source": [
        "quadrado <- function(numero_a_ser_quadrado) { \n",
        "  \n",
        "  numero_ao_quadrado <- numero_a_ser_quadrado^2\n",
        "\n",
        "  return(numero_ao_quadrado)                  \n",
        "  \n",
        "}\n"
      ],
      "execution_count": null,
      "outputs": []
    },
    {
      "cell_type": "code",
      "metadata": {
        "id": "ZSL9JfGMnHAh"
      },
      "source": [
        "quadrado(4)"
      ],
      "execution_count": null,
      "outputs": []
    },
    {
      "cell_type": "markdown",
      "metadata": {
        "id": "N_rJWmpYmnoL"
      },
      "source": [
        "> Dica: Dentro do RStudio podemos simplesmente digitar fun e dar enter depois de um popup e o RStudio automaticamente gerará um template para uma função. Infelizmente, isso não funciona por aqui no ambiente no Google Colab.\n",
        "\n"
      ]
    },
    {
      "cell_type": "markdown",
      "metadata": {
        "id": "wOvZ0HEWjaHQ"
      },
      "source": [
        "## Função dos anos de cachorros para anos de humanos - ou vice-versa\n",
        "\n",
        "Agora vamos criar uma função capaz de calcular anos de cachorro em anos humanos. Chamaremos de `anos_cao_para_humanos`."
      ]
    },
    {
      "cell_type": "code",
      "metadata": {
        "id": "8rj7tHNfir_1"
      },
      "source": [
        "anos_cao_para_humanos <- function(anos_animais){\n",
        "\n",
        "  human_lifespan <- 122.5\n",
        "  dog_lifespan <- 24\n",
        "\n",
        "  ratio <- human_lifespan/dog_lifespan\n",
        "\n",
        "  human_years <- animal_years*ratio\n",
        "\n",
        "  return(human_years)\n",
        "}"
      ],
      "execution_count": null,
      "outputs": []
    },
    {
      "cell_type": "code",
      "metadata": {
        "id": "t0esf2lkjb6A"
      },
      "source": [
        "anos_cao_para_humanos(8)"
      ],
      "execution_count": null,
      "outputs": []
    },
    {
      "cell_type": "markdown",
      "metadata": {
        "id": "ydFxBJNqjhhk"
      },
      "source": [
        "Yey!"
      ]
    },
    {
      "cell_type": "markdown",
      "metadata": {
        "id": "EKjl-4MAnXn_"
      },
      "source": [
        "# Exercícios I\n",
        "\n",
        "Sigam estes exercícios para entender mais sobre a lógica e a linguagem de computação."
      ]
    },
    {
      "cell_type": "markdown",
      "metadata": {
        "id": "xsQ4j9ZkfLsS"
      },
      "source": [
        "## Primeira tarefa\n",
        "\n",
        "Dê uma olhada na tabela abaixo. \n",
        "\n",
        "Escolha três animais dos dados vida_animais que ainda não usamos nos exemplos.\n",
        "\n",
        "Determine os valores do tempo de vida a objetos **únicos** com nomes apropriados.\n",
        "\n",
        "| Animal | Máxima Longevidade (em anos)|\n",
        "| --- | --- | \n",
        "| Human | 122.5 | \n",
        "| Domestic dog | 24.0 | \n",
        "| Domestic cat | 30.0 | \n",
        "| American alligator | 77.0 | \n",
        "| Golden hamster | 3.9 | \n",
        "| King penguin | 26.0 | \n",
        "| Lion|\t27.0 | \n",
        "| Greenland shark\t | 392.0 | \n",
        "| Galapagos tortoise | 177.0 | \n",
        "| African bush elephant\t | 65.0 | \n",
        "| California sea lion\t| 35.7\t | \n",
        "| Fruit fly\t\t| 0.3\t | \n",
        "| House mouse\t\t| 4.0\t |\n",
        "| Giraffe\t\t| 39.5\t |\n",
        "| Wild boar\t\t| 27.0\t|"
      ]
    },
    {
      "cell_type": "code",
      "metadata": {
        "id": "PUSRP4Alo4sq"
      },
      "source": [
        ""
      ],
      "execution_count": null,
      "outputs": []
    },
    {
      "cell_type": "markdown",
      "metadata": {
        "id": "WD82xkkZdwt7"
      },
      "source": [
        "## Segunda Tarefa\n",
        "\n",
        "Crie três testes lógicos diferentes que comparam a máxima longevidade entre os animais que você escolheu.\n",
        "\n",
        "O output conseguido faz sentido?"
      ]
    },
    {
      "cell_type": "code",
      "metadata": {
        "id": "LKRyx8Ksd-zP"
      },
      "source": [
        ""
      ],
      "execution_count": null,
      "outputs": []
    },
    {
      "cell_type": "code",
      "metadata": {
        "id": "wnVxujmXd_Ki"
      },
      "source": [
        ""
      ],
      "execution_count": null,
      "outputs": []
    },
    {
      "cell_type": "code",
      "metadata": {
        "id": "9Savb8cJy4eD"
      },
      "source": [
        ""
      ],
      "execution_count": null,
      "outputs": []
    },
    {
      "cell_type": "markdown",
      "metadata": {
        "id": "c_kdn4B0dSsE"
      },
      "source": [
        "## Terceira Tarefa\n",
        "\n",
        "Crie dois vetores com a ajuda de `c()`:\n",
        "\n",
        "1.  strings (i.e. textos) de todos os animais que você escolher\n",
        "2.  o valor do tempo de vida respectivo a sua escolha (na mesma ordem)"
      ]
    },
    {
      "cell_type": "code",
      "metadata": {
        "id": "4wFZSbTUdnXF"
      },
      "source": [
        ""
      ],
      "execution_count": null,
      "outputs": []
    },
    {
      "cell_type": "code",
      "metadata": {
        "id": "aCjHhKgQqzJX"
      },
      "source": [
        ""
      ],
      "execution_count": null,
      "outputs": []
    },
    {
      "cell_type": "markdown",
      "metadata": {
        "id": "6Cmk_J5dkZ5x"
      },
      "source": [
        "## Qarta Tarefa\n",
        "\n",
        "Calcule a média do seu vetor de tempo de vida."
      ]
    },
    {
      "cell_type": "code",
      "metadata": {
        "id": "9ak3l34hkd6y"
      },
      "source": [
        ""
      ],
      "execution_count": null,
      "outputs": []
    },
    {
      "cell_type": "markdown",
      "metadata": {
        "id": "P_dSD-NOgJQt"
      },
      "source": [
        "## Quinta Tarefa\n",
        "\n",
        "5.1 Adquira o *segundo* valor do vetor que contenha os nomes dos seus animais.\n",
        "\n",
        "> Dica: Colchetes sãos seus amigos nessa."
      ]
    },
    {
      "cell_type": "code",
      "metadata": {
        "id": "OiPsTiEMhHjG"
      },
      "source": [
        ""
      ],
      "execution_count": null,
      "outputs": []
    },
    {
      "cell_type": "markdown",
      "metadata": {
        "id": "MWoKxAlphsnq"
      },
      "source": [
        "\n",
        "5.2 Usando código, descubra quais dos animais no seu vetor possuem um valor máximo de longevidade maior que 25.\n",
        "\n",
        "> Dica: para uma solução elegante você precisará usar *ambos* vetores, colchetes e um teste lógico."
      ]
    },
    {
      "cell_type": "code",
      "metadata": {
        "id": "ZtT5id-YjC-t"
      },
      "source": [
        ""
      ],
      "execution_count": null,
      "outputs": []
    },
    {
      "cell_type": "markdown",
      "metadata": {
        "id": "dyejLU_ko5GR"
      },
      "source": [
        "## Sexta Tarefa\n",
        "\n",
        "Calcule a taxa de conversão de animais para humanos dos animais que você escolheu nas tarefas anteriores, designe o resultado a um objeto.\n"
      ]
    },
    {
      "cell_type": "code",
      "metadata": {
        "id": "vY9WXa6lo6un"
      },
      "source": [
        ""
      ],
      "execution_count": null,
      "outputs": []
    },
    {
      "cell_type": "markdown",
      "metadata": {
        "id": "99_BJtkZo7Lg"
      },
      "source": [
        "## Sétima Tarega\n",
        "\n",
        "Calcule os anos humanos para seus animais escolhidos e assuma que todos são 5 anos mais velhos.\n",
        "\n"
      ]
    },
    {
      "cell_type": "code",
      "metadata": {
        "id": "EdG94ovao8Y6"
      },
      "source": [
        ""
      ],
      "execution_count": null,
      "outputs": []
    },
    {
      "cell_type": "markdown",
      "metadata": {
        "id": "19tnxEpGo8xo"
      },
      "source": [
        "## Oitava Tarefa\n",
        "\n",
        "Selecione um dos animais que você escolheu e crie uma função que leva como input o tempo de vida dos animais e como saída anos humanos. Teste a função e valide com os resultados do exercício 7.\n",
        "\n",
        "Você pode nomear a função nesse estilo:\n",
        "\n",
        "`[seu_nome_de_animais]_para_anos_humanos`\n",
        "\n",
        "\n",
        "Crie a função aqui:\n",
        "\n"
      ]
    },
    {
      "cell_type": "code",
      "metadata": {
        "id": "NYeZs57lo9OG"
      },
      "source": [
        ""
      ],
      "execution_count": null,
      "outputs": []
    },
    {
      "cell_type": "markdown",
      "metadata": {
        "id": "Wg83iq78jQs5"
      },
      "source": [
        "Teste aqui:"
      ]
    },
    {
      "cell_type": "code",
      "metadata": {
        "id": "BV-Gzwz2jSqL"
      },
      "source": [
        ""
      ],
      "execution_count": null,
      "outputs": []
    },
    {
      "cell_type": "markdown",
      "metadata": {
        "id": "PGoajMWBpbWx"
      },
      "source": [
        "# Data frames\n",
        "\n",
        "Data frames são os objetos que mais iremos interagir em R. De certa forma você já sabe um pouco sobre eles também.\n",
        "\n",
        "Um exemplo de dataframe seria a tabela do [Animal Ageing and Longevity Database](https://www.johnsnowlabs.com/marketplace/the-animal-aging-and-longevity-database/) que já vimos anteriormente.\n",
        "\n",
        "\n",
        "| Animal | Máxima longevidade (em anos) |\n",
        "| --- | --- | \n",
        "| Human | 122.5 | \n",
        "| Domestic dog | 24.0 | \n",
        "| Domestic cat | 30.0 | \n",
        "| American alligator | 77.0 | \n",
        "| Golden hamster | 3.9 | \n",
        "| King penguin | 26.0 | \n",
        "| Lion|\t27.0 | \n",
        "| Greenland shark\t | 392.0 | \n",
        "| Galapagos tortoise | 177.0 | \n",
        "| African bush elephant\t | 65.0 | \n",
        "| California sea lion\t| 35.7\t | \n",
        "| Fruit fly\t\t| 0.3\t | \n",
        "| House mouse\t\t| 4.0\t |\n",
        "| Giraffe\t\t| 39.5\t |\n",
        "| Wild boar\t\t| 27.0\t|\n",
        "\n",
        "\n",
        "\n"
      ]
    },
    {
      "cell_type": "code",
      "metadata": {
        "id": "YWsQl25lp-JQ"
      },
      "source": [
        "human_lifespan <- 122.5\n",
        "dog_lifespan <- 24\n",
        "lion_lifespan <- 27\n",
        "mouse_lifespan <- 4\n",
        "fly_lifespan <- 0.3\n",
        "boar_lifespan <- 27\n",
        "alligator_lifespan <- 77\n",
        "greenland_shark_lifespan <- 392\n",
        "galapagos_tortoise_lifespan <- 177\n",
        "\n",
        "animal_lifespans <- c(greenland_shark_lifespan, dog_lifespan, \n",
        "  galapagos_tortoise_lifespan,\n",
        "  mouse_lifespan, fly_lifespan,\n",
        "  lion_lifespan, boar_lifespan, \n",
        "  alligator_lifespan, human_lifespan)\n",
        "\n",
        "animals <- c(\"greenland_shark\", \"dog\", \n",
        "  \"galapagos_tortoise\", \"mouse\", \n",
        "  \"fly\", \"lion\", \"boar\",\n",
        "  \"alligator\", \"human\")\n",
        "\n"
      ],
      "execution_count": null,
      "outputs": []
    },
    {
      "cell_type": "markdown",
      "metadata": {
        "id": "BPfV2l8QN70T"
      },
      "source": [
        "Para criar um data frame do zero podemos passar dois vetores (de mesmo tamanho) para a função `data.frame`. \n",
        "\n"
      ]
    },
    {
      "cell_type": "code",
      "metadata": {
        "id": "eUybA-sxAX3D"
      },
      "source": [
        "data.frame(animals, animal_lifespans)\n"
      ],
      "execution_count": null,
      "outputs": []
    },
    {
      "cell_type": "markdown",
      "metadata": {
        "id": "xdSYNPT5bYpO"
      },
      "source": [
        "Podemos também colocar data frames em objetos."
      ]
    },
    {
      "cell_type": "code",
      "metadata": {
        "id": "FL1Q7BefAbxp"
      },
      "source": [
        "animals_data <- data.frame(animals, animal_lifespans)\n",
        "\n",
        "animals_data"
      ],
      "execution_count": null,
      "outputs": []
    },
    {
      "cell_type": "markdown",
      "metadata": {
        "id": "hjR2yqsxbhPZ"
      },
      "source": [
        "### Dimensões de dados\n",
        "\n",
        "Podemos usar funções para determinar a forma do nosso dado."
      ]
    },
    {
      "cell_type": "markdown",
      "metadata": {
        "id": "8nsZ5sWRbLpy"
      },
      "source": [
        "#### Quantas colunas nosso dado possui?\n",
        "\n",
        "Podemos usar a função `ncol()` para determinar o número de colunas."
      ]
    },
    {
      "cell_type": "code",
      "metadata": {
        "id": "QEfxcwiVbQ4x"
      },
      "source": [
        "ncol(animals_data)"
      ],
      "execution_count": null,
      "outputs": []
    },
    {
      "cell_type": "markdown",
      "metadata": {
        "id": "9edL4sVKbYhS"
      },
      "source": [
        "#### Quantas linhas tem no dado?\n",
        "\n",
        "Use `nrow()` para determinar número de linhas."
      ]
    },
    {
      "cell_type": "code",
      "metadata": {
        "id": "nZB8Z0AqbvxP"
      },
      "source": [
        "nrow(animals_data)"
      ],
      "execution_count": null,
      "outputs": []
    },
    {
      "cell_type": "markdown",
      "metadata": {
        "id": "3BhKl8y-b81a"
      },
      "source": [
        "#### `dim()`\n",
        "\n",
        "Podemos usar `dim()` para obter todas essas informações de uma só vez:"
      ]
    },
    {
      "cell_type": "code",
      "metadata": {
        "id": "jWHxBK38cCsp"
      },
      "source": [
        "dim(animals_data)"
      ],
      "execution_count": null,
      "outputs": []
    },
    {
      "cell_type": "markdown",
      "metadata": {
        "id": "thoLkuEEcJbV"
      },
      "source": [
        "O primeiro valor conta as linhas, o segundo conta as colunas."
      ]
    },
    {
      "cell_type": "markdown",
      "metadata": {
        "id": "ecW3rvndAmm_"
      },
      "source": [
        "## Nomes de variáveis\n",
        "\n",
        "Podemos obter o nome das variáveis em qualquer data frame passando o para `names()`."
      ]
    },
    {
      "cell_type": "code",
      "metadata": {
        "id": "SOycpYlFAiyL"
      },
      "source": [
        "names(animals_data)"
      ],
      "execution_count": null,
      "outputs": []
    },
    {
      "cell_type": "markdown",
      "metadata": {
        "id": "JnvqIzz7ApCo"
      },
      "source": [
        "## Recuperar variáveis\n",
        "\n",
        "Se quisermos recuperar variáveis específicar de qualquer data framde podemos fazer isso via operador `$`.\n",
        "\n",
        "> $$\\color{red}{\\text{dataset}}$\\color{orange}{\\text{nome_variavel}}$$\n",
        "\n",
        "Pense no simbolo `$` como uma chave que abre portas e ajuda a checar o que está dentro de um objeto."
      ]
    },
    {
      "cell_type": "code",
      "metadata": {
        "id": "iwxLMgN7Argp"
      },
      "source": [
        "animals_data$animal_lifespans"
      ],
      "execution_count": null,
      "outputs": []
    },
    {
      "cell_type": "code",
      "metadata": {
        "id": "MLFaO_NvAu3v"
      },
      "source": [
        "animals_data$animals"
      ],
      "execution_count": null,
      "outputs": []
    },
    {
      "cell_type": "markdown",
      "metadata": {
        "id": "IabZF6yLA5tC"
      },
      "source": [
        "## Recolocar variáveis\n",
        "\n",
        "Podemos usar o acesso de `$` para adicionar **novas variáveis**.\n",
        "\n",
        "No caso abaixo criamos uma variável chamada `animal_to_human` que mantém todas as conversões de anos de humanos para animais.\n",
        "\n",
        "Fazemos isso simplesmente assinalando um vetor contendo a informação para`animals_data$animal_to_human` mesmo que essa variável ainda não exista."
      ]
    },
    {
      "cell_type": "code",
      "metadata": {
        "id": "EF0IAtR7A7YF"
      },
      "source": [
        "animals_data$animal_to_human <- animals_data$animal_lifespans / human_lifespan"
      ],
      "execution_count": null,
      "outputs": []
    },
    {
      "cell_type": "code",
      "metadata": {
        "id": "sQQC5Ha4BFnm"
      },
      "source": [
        "animals_data"
      ],
      "execution_count": null,
      "outputs": []
    },
    {
      "cell_type": "markdown",
      "metadata": {
        "id": "vkipEWbsAzyt"
      },
      "source": [
        "## Indexando\n",
        "\n",
        "Assim como fizemos anteriormente com os vetores podemos também indexar data frames com colchetes: `[]`. No entanto, diferente de vetores, data frames possuem **duas dimensões**.\n",
        "\n",
        "Então é por isso que os colchetes nesse caso levam dois inputs, separados por uma vírgula:\n",
        "\n",
        "> $$\\color{red}{\\text{dataset}}[\\color{orange}{\\text{linhas}},\\color{lightblue}{\\text{colunas}}]$$\n",
        "\n",
        "* O primeiro valor depois de abrir um colchete se refere à  $\\color{orange}{\\text{quais linhas}}$ você quer manter.\n",
        "\n",
        "* O segundo valor se refere à  $\\color{lightblue}{\\text{quais colunas}}$ você quer manter.\n",
        "\n",
        "Se quisermos apenas manter a primeira linha e a primeira coluna do nosso data frame `animals_data` fazemos assim:\n"
      ]
    },
    {
      "cell_type": "code",
      "metadata": {
        "id": "boqQTTBABPRK"
      },
      "source": [
        "animals_data[1, 1]"
      ],
      "execution_count": null,
      "outputs": []
    },
    {
      "cell_type": "markdown",
      "metadata": {
        "id": "eToOVgqGSWkm"
      },
      "source": [
        "*Se* quisermos manter uma certa linha, porém todas as colunas podemos fazer isso deixando o *segundo* valor vazio."
      ]
    },
    {
      "cell_type": "code",
      "metadata": {
        "id": "0VZlAcAzBSyb"
      },
      "source": [
        "animals_data[1, ]"
      ],
      "execution_count": null,
      "outputs": []
    },
    {
      "cell_type": "markdown",
      "metadata": {
        "id": "9ic_6unNS-Vk"
      },
      "source": [
        "O mesmo funciona para columas, mas mantendo todas as linhas.\n",
        "\n",
        "Isso retorna um vetor:"
      ]
    },
    {
      "cell_type": "code",
      "metadata": {
        "id": "CcawnyuaBVzf"
      },
      "source": [
        "animals_data[, 1]"
      ],
      "execution_count": null,
      "outputs": []
    },
    {
      "cell_type": "markdown",
      "metadata": {
        "id": "CUhBsbhkTFVP"
      },
      "source": [
        "## Indexando com teste lógicos\n",
        "\n",
        "Também podemos fazer indexações mais complexas mantendo apenas linhas que preencham uma certa condição. Digamos que apenas queremos manter as linhas que contenham animais que vivam mais que os humanos."
      ]
    },
    {
      "cell_type": "code",
      "metadata": {
        "id": "jTEejiunTOyn"
      },
      "source": [
        "animals_data$animal_lifespans > human_lifespan"
      ],
      "execution_count": null,
      "outputs": []
    },
    {
      "cell_type": "code",
      "metadata": {
        "id": "P0w4JqnxBYdA"
      },
      "source": [
        "animals_data[animals_data$animal_lifespans > human_lifespan, ]"
      ],
      "execution_count": null,
      "outputs": []
    },
    {
      "cell_type": "code",
      "source": [
        ""
      ],
      "metadata": {
        "id": "8_cYOX25MiKj"
      },
      "execution_count": null,
      "outputs": []
    },
    {
      "cell_type": "markdown",
      "source": [
        "Espero que tenha gostado dessa introdução à computação e linguagem de programação com R! Te vejo nas aulas seguintes onde poderemos programar estruturas ainda mais complexas como robôs ou inteligências artificiais."
      ],
      "metadata": {
        "id": "U-QcE0lVMirN"
      }
    }
  ]
}